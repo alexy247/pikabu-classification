{
 "cells": [
  {
   "cell_type": "code",
   "execution_count": 1,
   "metadata": {},
   "outputs": [
    {
     "name": "stderr",
     "output_type": "stream",
     "text": [
      "[nltk_data] Downloading package stopwords to\n",
      "[nltk_data]     /Users/alena.ogloblina/nltk_data...\n",
      "[nltk_data]   Package stopwords is already up-to-date!\n"
     ]
    }
   ],
   "source": [
    "import os\n",
    "import pandas as pd\n",
    "from utils import stem"
   ]
  },
  {
   "cell_type": "code",
   "execution_count": 19,
   "metadata": {},
   "outputs": [],
   "source": [
    "PARENT_PATH = os.path.join(\"..\")\n",
    "DATASET_CSV = os.path.join(PARENT_PATH, \"data\", \"data.csv\")\n",
    "RESULT_CSV = os.path.join(PARENT_PATH, \"data\", \"prepared.csv\")\n",
    "MIN_TEXT_LEN = 2500"
   ]
  },
  {
   "cell_type": "code",
   "execution_count": 11,
   "metadata": {},
   "outputs": [],
   "source": [
    "df = pd.read_csv(DATASET_CSV)"
   ]
  },
  {
   "cell_type": "code",
   "execution_count": 12,
   "metadata": {},
   "outputs": [
    {
     "name": "stdout",
     "output_type": "stream",
     "text": [
      "<class 'pandas.core.frame.DataFrame'>\n",
      "RangeIndex: 668258 entries, 0 to 668257\n",
      "Data columns (total 12 columns):\n",
      " #   Column       Non-Null Count   Dtype \n",
      "---  ------       --------------   ----- \n",
      " 0   id           668258 non-null  int64 \n",
      " 1   title        668255 non-null  object\n",
      " 2   author_id    668258 non-null  int64 \n",
      " 3   author_name  668258 non-null  object\n",
      " 4   comments     668258 non-null  int64 \n",
      " 5   rating       668258 non-null  int64 \n",
      " 6   rating_full  668258 non-null  object\n",
      " 7   date         668258 non-null  object\n",
      " 8   tags         668258 non-null  object\n",
      " 9   views        668258 non-null  int64 \n",
      " 10  saves        668258 non-null  int64 \n",
      " 11  text         663873 non-null  object\n",
      "dtypes: int64(6), object(6)\n",
      "memory usage: 61.2+ MB\n"
     ]
    }
   ],
   "source": [
    "df.info()"
   ]
  },
  {
   "cell_type": "code",
   "execution_count": 13,
   "metadata": {},
   "outputs": [
    {
     "data": {
      "text/html": [
       "<div>\n",
       "<style scoped>\n",
       "    .dataframe tbody tr th:only-of-type {\n",
       "        vertical-align: middle;\n",
       "    }\n",
       "\n",
       "    .dataframe tbody tr th {\n",
       "        vertical-align: top;\n",
       "    }\n",
       "\n",
       "    .dataframe thead th {\n",
       "        text-align: right;\n",
       "    }\n",
       "</style>\n",
       "<table border=\"1\" class=\"dataframe\">\n",
       "  <thead>\n",
       "    <tr style=\"text-align: right;\">\n",
       "      <th></th>\n",
       "      <th>id</th>\n",
       "      <th>title</th>\n",
       "      <th>author_id</th>\n",
       "      <th>author_name</th>\n",
       "      <th>comments</th>\n",
       "      <th>rating</th>\n",
       "      <th>rating_full</th>\n",
       "      <th>date</th>\n",
       "      <th>tags</th>\n",
       "      <th>views</th>\n",
       "      <th>saves</th>\n",
       "      <th>text</th>\n",
       "    </tr>\n",
       "  </thead>\n",
       "  <tbody>\n",
       "    <tr>\n",
       "      <th>0</th>\n",
       "      <td>4442434</td>\n",
       "      <td>Китайская мудрость</td>\n",
       "      <td>1395543</td>\n",
       "      <td>MMaI</td>\n",
       "      <td>6</td>\n",
       "      <td>0</td>\n",
       "      <td>31:24</td>\n",
       "      <td>2016-09-01T07:20:41+03:00</td>\n",
       "      <td>['[моё]', 'Семья', 'Брат', 'Младший брат', 'Му...</td>\n",
       "      <td>0</td>\n",
       "      <td>0</td>\n",
       "      <td>Мой младший брат, когда ему было 6-7 лет. Си...</td>\n",
       "    </tr>\n",
       "    <tr>\n",
       "      <th>1</th>\n",
       "      <td>4442433</td>\n",
       "      <td>Манифест читателя (Как читать классическую лит...</td>\n",
       "      <td>1413157</td>\n",
       "      <td>Tolstoknijnik</td>\n",
       "      <td>8</td>\n",
       "      <td>0</td>\n",
       "      <td>17:28</td>\n",
       "      <td>2016-09-01T07:19:33+03:00</td>\n",
       "      <td>['Не мое', 'Чтение', 'Книги', 'Литература', 'Д...</td>\n",
       "      <td>0</td>\n",
       "      <td>1</td>\n",
       "      <td>\\nПисатель и критик соотносятся так же, как ...</td>\n",
       "    </tr>\n",
       "    <tr>\n",
       "      <th>2</th>\n",
       "      <td>4442430</td>\n",
       "      <td>Призываются айтишники и сисадмины, а так же вс...</td>\n",
       "      <td>220928</td>\n",
       "      <td>axellly</td>\n",
       "      <td>29</td>\n",
       "      <td>0</td>\n",
       "      <td>2:20</td>\n",
       "      <td>2016-09-01T07:15:17+03:00</td>\n",
       "      <td>['Компьютер', 'Компьютерщики', 'Компьютерное ж...</td>\n",
       "      <td>0</td>\n",
       "      <td>1</td>\n",
       "      <td>Привет всем пикабушникам, этим холодным 1-се...</td>\n",
       "    </tr>\n",
       "    <tr>\n",
       "      <th>3</th>\n",
       "      <td>4442429</td>\n",
       "      <td>Батя может</td>\n",
       "      <td>773825</td>\n",
       "      <td>Vincher89</td>\n",
       "      <td>9</td>\n",
       "      <td>41</td>\n",
       "      <td>58:17</td>\n",
       "      <td>2016-09-01T07:14:56+03:00</td>\n",
       "      <td>['Тролль', 'Школьники', 'Обязанности', 'Текст']</td>\n",
       "      <td>0</td>\n",
       "      <td>1</td>\n",
       "      <td>Чтобы я не забыла вынести мешок с мусором, м...</td>\n",
       "    </tr>\n",
       "    <tr>\n",
       "      <th>4</th>\n",
       "      <td>4442428</td>\n",
       "      <td>О новой системе рейтинга в Overwatch</td>\n",
       "      <td>742541</td>\n",
       "      <td>Nidere2</td>\n",
       "      <td>10</td>\n",
       "      <td>-83</td>\n",
       "      <td>14:97</td>\n",
       "      <td>2016-09-01T07:14:45+03:00</td>\n",
       "      <td>['[моё]', 'Overwatch', 'Рейтинг', 'Наркомания'...</td>\n",
       "      <td>0</td>\n",
       "      <td>0</td>\n",
       "      <td>Решил я откаллиброваться на тестовом сервере...</td>\n",
       "    </tr>\n",
       "  </tbody>\n",
       "</table>\n",
       "</div>"
      ],
      "text/plain": [
       "        id                                              title  author_id  \\\n",
       "0  4442434                                 Китайская мудрость    1395543   \n",
       "1  4442433  Манифест читателя (Как читать классическую лит...    1413157   \n",
       "2  4442430  Призываются айтишники и сисадмины, а так же вс...     220928   \n",
       "3  4442429                                         Батя может     773825   \n",
       "4  4442428               О новой системе рейтинга в Overwatch     742541   \n",
       "\n",
       "     author_name  comments  rating rating_full                       date  \\\n",
       "0           MMaI         6       0       31:24  2016-09-01T07:20:41+03:00   \n",
       "1  Tolstoknijnik         8       0       17:28  2016-09-01T07:19:33+03:00   \n",
       "2        axellly        29       0        2:20  2016-09-01T07:15:17+03:00   \n",
       "3      Vincher89         9      41       58:17  2016-09-01T07:14:56+03:00   \n",
       "4        Nidere2        10     -83       14:97  2016-09-01T07:14:45+03:00   \n",
       "\n",
       "                                                tags  views  saves  \\\n",
       "0  ['[моё]', 'Семья', 'Брат', 'Младший брат', 'Му...      0      0   \n",
       "1  ['Не мое', 'Чтение', 'Книги', 'Литература', 'Д...      0      1   \n",
       "2  ['Компьютер', 'Компьютерщики', 'Компьютерное ж...      0      1   \n",
       "3    ['Тролль', 'Школьники', 'Обязанности', 'Текст']      0      1   \n",
       "4  ['[моё]', 'Overwatch', 'Рейтинг', 'Наркомания'...      0      0   \n",
       "\n",
       "                                                text  \n",
       "0    Мой младший брат, когда ему было 6-7 лет. Си...  \n",
       "1    \\nПисатель и критик соотносятся так же, как ...  \n",
       "2    Привет всем пикабушникам, этим холодным 1-се...  \n",
       "3    Чтобы я не забыла вынести мешок с мусором, м...  \n",
       "4    Решил я откаллиброваться на тестовом сервере...  "
      ]
     },
     "execution_count": 13,
     "metadata": {},
     "output_type": "execute_result"
    }
   ],
   "source": [
    "df.head()"
   ]
  },
  {
   "cell_type": "code",
   "execution_count": 14,
   "metadata": {},
   "outputs": [],
   "source": [
    "df_prepare = df[[\"id\", \"title\", \"author_id\", \"date\", \"tags\", \"text\", \"rating\"]].dropna()"
   ]
  },
  {
   "cell_type": "code",
   "execution_count": 15,
   "metadata": {},
   "outputs": [
    {
     "data": {
      "text/html": [
       "<div>\n",
       "<style scoped>\n",
       "    .dataframe tbody tr th:only-of-type {\n",
       "        vertical-align: middle;\n",
       "    }\n",
       "\n",
       "    .dataframe tbody tr th {\n",
       "        vertical-align: top;\n",
       "    }\n",
       "\n",
       "    .dataframe thead th {\n",
       "        text-align: right;\n",
       "    }\n",
       "</style>\n",
       "<table border=\"1\" class=\"dataframe\">\n",
       "  <thead>\n",
       "    <tr style=\"text-align: right;\">\n",
       "      <th></th>\n",
       "      <th>id</th>\n",
       "      <th>title</th>\n",
       "      <th>author_id</th>\n",
       "      <th>date</th>\n",
       "      <th>tags</th>\n",
       "      <th>text</th>\n",
       "      <th>rating</th>\n",
       "    </tr>\n",
       "  </thead>\n",
       "  <tbody>\n",
       "    <tr>\n",
       "      <th>0</th>\n",
       "      <td>4442434</td>\n",
       "      <td>Китайская мудрость</td>\n",
       "      <td>1395543</td>\n",
       "      <td>2016-09-01T07:20:41+03:00</td>\n",
       "      <td>['[моё]', 'Семья', 'Брат', 'Младший брат', 'Му...</td>\n",
       "      <td>Мой младший брат, когда ему было 6-7 лет. Си...</td>\n",
       "      <td>0</td>\n",
       "    </tr>\n",
       "    <tr>\n",
       "      <th>1</th>\n",
       "      <td>4442433</td>\n",
       "      <td>Манифест читателя (Как читать классическую лит...</td>\n",
       "      <td>1413157</td>\n",
       "      <td>2016-09-01T07:19:33+03:00</td>\n",
       "      <td>['Не мое', 'Чтение', 'Книги', 'Литература', 'Д...</td>\n",
       "      <td>\\nПисатель и критик соотносятся так же, как ...</td>\n",
       "      <td>0</td>\n",
       "    </tr>\n",
       "    <tr>\n",
       "      <th>2</th>\n",
       "      <td>4442430</td>\n",
       "      <td>Призываются айтишники и сисадмины, а так же вс...</td>\n",
       "      <td>220928</td>\n",
       "      <td>2016-09-01T07:15:17+03:00</td>\n",
       "      <td>['Компьютер', 'Компьютерщики', 'Компьютерное ж...</td>\n",
       "      <td>Привет всем пикабушникам, этим холодным 1-се...</td>\n",
       "      <td>0</td>\n",
       "    </tr>\n",
       "    <tr>\n",
       "      <th>3</th>\n",
       "      <td>4442429</td>\n",
       "      <td>Батя может</td>\n",
       "      <td>773825</td>\n",
       "      <td>2016-09-01T07:14:56+03:00</td>\n",
       "      <td>['Тролль', 'Школьники', 'Обязанности', 'Текст']</td>\n",
       "      <td>Чтобы я не забыла вынести мешок с мусором, м...</td>\n",
       "      <td>41</td>\n",
       "    </tr>\n",
       "    <tr>\n",
       "      <th>4</th>\n",
       "      <td>4442428</td>\n",
       "      <td>О новой системе рейтинга в Overwatch</td>\n",
       "      <td>742541</td>\n",
       "      <td>2016-09-01T07:14:45+03:00</td>\n",
       "      <td>['[моё]', 'Overwatch', 'Рейтинг', 'Наркомания'...</td>\n",
       "      <td>Решил я откаллиброваться на тестовом сервере...</td>\n",
       "      <td>-83</td>\n",
       "    </tr>\n",
       "  </tbody>\n",
       "</table>\n",
       "</div>"
      ],
      "text/plain": [
       "        id                                              title  author_id  \\\n",
       "0  4442434                                 Китайская мудрость    1395543   \n",
       "1  4442433  Манифест читателя (Как читать классическую лит...    1413157   \n",
       "2  4442430  Призываются айтишники и сисадмины, а так же вс...     220928   \n",
       "3  4442429                                         Батя может     773825   \n",
       "4  4442428               О новой системе рейтинга в Overwatch     742541   \n",
       "\n",
       "                        date  \\\n",
       "0  2016-09-01T07:20:41+03:00   \n",
       "1  2016-09-01T07:19:33+03:00   \n",
       "2  2016-09-01T07:15:17+03:00   \n",
       "3  2016-09-01T07:14:56+03:00   \n",
       "4  2016-09-01T07:14:45+03:00   \n",
       "\n",
       "                                                tags  \\\n",
       "0  ['[моё]', 'Семья', 'Брат', 'Младший брат', 'Му...   \n",
       "1  ['Не мое', 'Чтение', 'Книги', 'Литература', 'Д...   \n",
       "2  ['Компьютер', 'Компьютерщики', 'Компьютерное ж...   \n",
       "3    ['Тролль', 'Школьники', 'Обязанности', 'Текст']   \n",
       "4  ['[моё]', 'Overwatch', 'Рейтинг', 'Наркомания'...   \n",
       "\n",
       "                                                text  rating  \n",
       "0    Мой младший брат, когда ему было 6-7 лет. Си...       0  \n",
       "1    \\nПисатель и критик соотносятся так же, как ...       0  \n",
       "2    Привет всем пикабушникам, этим холодным 1-се...       0  \n",
       "3    Чтобы я не забыла вынести мешок с мусором, м...      41  \n",
       "4    Решил я откаллиброваться на тестовом сервере...     -83  "
      ]
     },
     "execution_count": 15,
     "metadata": {},
     "output_type": "execute_result"
    }
   ],
   "source": [
    "df_prepare.head()"
   ]
  },
  {
   "cell_type": "code",
   "execution_count": 16,
   "metadata": {},
   "outputs": [
    {
     "name": "stdout",
     "output_type": "stream",
     "text": [
      "<class 'pandas.core.frame.DataFrame'>\n",
      "Int64Index: 663870 entries, 0 to 668257\n",
      "Data columns (total 7 columns):\n",
      " #   Column     Non-Null Count   Dtype \n",
      "---  ------     --------------   ----- \n",
      " 0   id         663870 non-null  int64 \n",
      " 1   title      663870 non-null  object\n",
      " 2   author_id  663870 non-null  int64 \n",
      " 3   date       663870 non-null  object\n",
      " 4   tags       663870 non-null  object\n",
      " 5   text       663870 non-null  object\n",
      " 6   rating     663870 non-null  int64 \n",
      "dtypes: int64(3), object(4)\n",
      "memory usage: 40.5+ MB\n"
     ]
    }
   ],
   "source": [
    "df_prepare.info()"
   ]
  },
  {
   "cell_type": "code",
   "execution_count": 17,
   "metadata": {},
   "outputs": [],
   "source": [
    "df_prepare[\"size\"] = df_prepare[[\"text\"]].apply(lambda row: len(row[\"text\"]), axis=1)"
   ]
  },
  {
   "cell_type": "code",
   "execution_count": 20,
   "metadata": {},
   "outputs": [],
   "source": [
    "df_prepare = df_prepare.loc[df_prepare['size'] >= MIN_TEXT_LEN]"
   ]
  },
  {
   "cell_type": "code",
   "execution_count": 21,
   "metadata": {},
   "outputs": [
    {
     "name": "stdout",
     "output_type": "stream",
     "text": [
      "<class 'pandas.core.frame.DataFrame'>\n",
      "Int64Index: 79104 entries, 1 to 668256\n",
      "Data columns (total 8 columns):\n",
      " #   Column     Non-Null Count  Dtype \n",
      "---  ------     --------------  ----- \n",
      " 0   id         79104 non-null  int64 \n",
      " 1   title      79104 non-null  object\n",
      " 2   author_id  79104 non-null  int64 \n",
      " 3   date       79104 non-null  object\n",
      " 4   tags       79104 non-null  object\n",
      " 5   text       79104 non-null  object\n",
      " 6   rating     79104 non-null  int64 \n",
      " 7   size       79104 non-null  int64 \n",
      "dtypes: int64(4), object(4)\n",
      "memory usage: 5.4+ MB\n"
     ]
    }
   ],
   "source": [
    "df_prepare.info()"
   ]
  },
  {
   "cell_type": "code",
   "execution_count": 22,
   "metadata": {},
   "outputs": [],
   "source": [
    "df_prepare[\"text_stem\"] = df_prepare[[\"text\"]].apply(lambda row: stem(row[\"text\"]), axis=1)"
   ]
  },
  {
   "cell_type": "code",
   "execution_count": 24,
   "metadata": {},
   "outputs": [],
   "source": [
    "df_prepare[\"title_stem\"] = df_prepare[[\"title\"]].apply(lambda row: stem(row[\"title\"]), axis=1)"
   ]
  },
  {
   "cell_type": "code",
   "execution_count": 46,
   "metadata": {},
   "outputs": [],
   "source": [
    "df_prepare[\"timestamp\"] = df_prepare[[\"date\"]].apply(lambda row: dt.datetime.strptime(row[\"date\"], '%Y-%m-%dT%H:%M:%S%z').timestamp(), axis=1)"
   ]
  },
  {
   "cell_type": "code",
   "execution_count": 47,
   "metadata": {},
   "outputs": [
    {
     "data": {
      "text/html": [
       "<div>\n",
       "<style scoped>\n",
       "    .dataframe tbody tr th:only-of-type {\n",
       "        vertical-align: middle;\n",
       "    }\n",
       "\n",
       "    .dataframe tbody tr th {\n",
       "        vertical-align: top;\n",
       "    }\n",
       "\n",
       "    .dataframe thead th {\n",
       "        text-align: right;\n",
       "    }\n",
       "</style>\n",
       "<table border=\"1\" class=\"dataframe\">\n",
       "  <thead>\n",
       "    <tr style=\"text-align: right;\">\n",
       "      <th></th>\n",
       "      <th>id</th>\n",
       "      <th>title</th>\n",
       "      <th>author_id</th>\n",
       "      <th>date</th>\n",
       "      <th>tags</th>\n",
       "      <th>text</th>\n",
       "      <th>rating</th>\n",
       "      <th>size</th>\n",
       "      <th>text_stem</th>\n",
       "      <th>title_stem</th>\n",
       "      <th>timestamp</th>\n",
       "    </tr>\n",
       "  </thead>\n",
       "  <tbody>\n",
       "    <tr>\n",
       "      <th>1</th>\n",
       "      <td>4442433</td>\n",
       "      <td>Манифест читателя (Как читать классическую лит...</td>\n",
       "      <td>1413157</td>\n",
       "      <td>2016-09-01T07:19:33+03:00</td>\n",
       "      <td>['Не мое', 'Чтение', 'Книги', 'Литература', 'Д...</td>\n",
       "      <td>\\nПисатель и критик соотносятся так же, как ...</td>\n",
       "      <td>0</td>\n",
       "      <td>7148</td>\n",
       "      <td>Писател критик соотнос же, астрон астролог. Ка...</td>\n",
       "      <td>Манифест читател (Как чита классическ литературу)</td>\n",
       "      <td>1.472704e+09</td>\n",
       "    </tr>\n",
       "    <tr>\n",
       "      <th>2</th>\n",
       "      <td>4442430</td>\n",
       "      <td>Призываются айтишники и сисадмины, а так же вс...</td>\n",
       "      <td>220928</td>\n",
       "      <td>2016-09-01T07:15:17+03:00</td>\n",
       "      <td>['Компьютер', 'Компьютерщики', 'Компьютерное ж...</td>\n",
       "      <td>Привет всем пикабушникам, этим холодным 1-се...</td>\n",
       "      <td>0</td>\n",
       "      <td>2838</td>\n",
       "      <td>Привет всем пикабушникам, эт холодн 1-сентябрь...</td>\n",
       "      <td>Призыва айтишник сисадмины, ког заинтересует...</td>\n",
       "      <td>1.472703e+09</td>\n",
       "    </tr>\n",
       "    <tr>\n",
       "      <th>5</th>\n",
       "      <td>4442427</td>\n",
       "      <td>Советы 30-ти летнего 20-ти летним. Как заполуч...</td>\n",
       "      <td>557156</td>\n",
       "      <td>2016-09-01T07:12:35+03:00</td>\n",
       "      <td>['[моё]', 'Советы 30-летнего', 'Френдзона', 'О...</td>\n",
       "      <td>\\nА она идеальна! От щиколоток до кончиков р...</td>\n",
       "      <td>255</td>\n",
       "      <td>5744</td>\n",
       "      <td>А идеальна! От щиколоток кончик ресниц. Есть н...</td>\n",
       "      <td>Совет 30-ти летн 20-ти летним. Как заполуч дев...</td>\n",
       "      <td>1.472703e+09</td>\n",
       "    </tr>\n",
       "    <tr>\n",
       "      <th>6</th>\n",
       "      <td>4442425</td>\n",
       "      <td>Вышли сало, здравствуй мама!</td>\n",
       "      <td>756425</td>\n",
       "      <td>2016-09-01T07:08:24+03:00</td>\n",
       "      <td>['[моё]', 'Китай', 'Таможня', 'Деньги', 'Истор...</td>\n",
       "      <td>\\nПродолжаю истории про моего друга.Естестве...</td>\n",
       "      <td>0</td>\n",
       "      <td>6360</td>\n",
       "      <td>Продолжа истор мо друга.Естествен ег лица:Давн...</td>\n",
       "      <td>Вышл сало, здравств мама!</td>\n",
       "      <td>1.472703e+09</td>\n",
       "    </tr>\n",
       "    <tr>\n",
       "      <th>11</th>\n",
       "      <td>3140766</td>\n",
       "      <td>История не то про глупость не то про доброту.....</td>\n",
       "      <td>612458</td>\n",
       "      <td>2015-03-05T22:23:18+03:00</td>\n",
       "      <td>['История', 'Деньги', 'Сложный выбор', 'Текст'...</td>\n",
       "      <td>История не то, чтобы юмористическая, но посм...</td>\n",
       "      <td>0</td>\n",
       "      <td>4795</td>\n",
       "      <td>Истор то, юмористическая, посмея пар мест наве...</td>\n",
       "      <td>Истор глупост доброту... Реша сами.</td>\n",
       "      <td>1.425583e+09</td>\n",
       "    </tr>\n",
       "  </tbody>\n",
       "</table>\n",
       "</div>"
      ],
      "text/plain": [
       "         id                                              title  author_id  \\\n",
       "1   4442433  Манифест читателя (Как читать классическую лит...    1413157   \n",
       "2   4442430  Призываются айтишники и сисадмины, а так же вс...     220928   \n",
       "5   4442427  Советы 30-ти летнего 20-ти летним. Как заполуч...     557156   \n",
       "6   4442425                       Вышли сало, здравствуй мама!     756425   \n",
       "11  3140766  История не то про глупость не то про доброту.....     612458   \n",
       "\n",
       "                         date  \\\n",
       "1   2016-09-01T07:19:33+03:00   \n",
       "2   2016-09-01T07:15:17+03:00   \n",
       "5   2016-09-01T07:12:35+03:00   \n",
       "6   2016-09-01T07:08:24+03:00   \n",
       "11  2015-03-05T22:23:18+03:00   \n",
       "\n",
       "                                                 tags  \\\n",
       "1   ['Не мое', 'Чтение', 'Книги', 'Литература', 'Д...   \n",
       "2   ['Компьютер', 'Компьютерщики', 'Компьютерное ж...   \n",
       "5   ['[моё]', 'Советы 30-летнего', 'Френдзона', 'О...   \n",
       "6   ['[моё]', 'Китай', 'Таможня', 'Деньги', 'Истор...   \n",
       "11  ['История', 'Деньги', 'Сложный выбор', 'Текст'...   \n",
       "\n",
       "                                                 text  rating  size  \\\n",
       "1     \\nПисатель и критик соотносятся так же, как ...       0  7148   \n",
       "2     Привет всем пикабушникам, этим холодным 1-се...       0  2838   \n",
       "5     \\nА она идеальна! От щиколоток до кончиков р...     255  5744   \n",
       "6     \\nПродолжаю истории про моего друга.Естестве...       0  6360   \n",
       "11    История не то, чтобы юмористическая, но посм...       0  4795   \n",
       "\n",
       "                                            text_stem  \\\n",
       "1   Писател критик соотнос же, астрон астролог. Ка...   \n",
       "2   Привет всем пикабушникам, эт холодн 1-сентябрь...   \n",
       "5   А идеальна! От щиколоток кончик ресниц. Есть н...   \n",
       "6   Продолжа истор мо друга.Естествен ег лица:Давн...   \n",
       "11  Истор то, юмористическая, посмея пар мест наве...   \n",
       "\n",
       "                                           title_stem     timestamp  \n",
       "1   Манифест читател (Как чита классическ литературу)  1.472704e+09  \n",
       "2     Призыва айтишник сисадмины, ког заинтересует...  1.472703e+09  \n",
       "5   Совет 30-ти летн 20-ти летним. Как заполуч дев...  1.472703e+09  \n",
       "6                           Вышл сало, здравств мама!  1.472703e+09  \n",
       "11                Истор глупост доброту... Реша сами.  1.425583e+09  "
      ]
     },
     "execution_count": 47,
     "metadata": {},
     "output_type": "execute_result"
    }
   ],
   "source": [
    "df_prepare.head()"
   ]
  },
  {
   "cell_type": "code",
   "execution_count": 51,
   "metadata": {},
   "outputs": [],
   "source": [
    "df_final = df_prepare[[\"id\", \"author_id\", \"timestamp\", \"tags\", \"title_stem\", \"text_stem\"]]"
   ]
  },
  {
   "cell_type": "code",
   "execution_count": 52,
   "metadata": {},
   "outputs": [
    {
     "name": "stdout",
     "output_type": "stream",
     "text": [
      "<class 'pandas.core.frame.DataFrame'>\n",
      "Int64Index: 79104 entries, 1 to 668256\n",
      "Data columns (total 6 columns):\n",
      " #   Column      Non-Null Count  Dtype  \n",
      "---  ------      --------------  -----  \n",
      " 0   id          79104 non-null  int64  \n",
      " 1   author_id   79104 non-null  int64  \n",
      " 2   timestamp   79104 non-null  float64\n",
      " 3   tags        79104 non-null  object \n",
      " 4   title_stem  79104 non-null  object \n",
      " 5   text_stem   79104 non-null  object \n",
      "dtypes: float64(1), int64(2), object(3)\n",
      "memory usage: 4.2+ MB\n"
     ]
    }
   ],
   "source": [
    "df_final.info()"
   ]
  },
  {
   "cell_type": "code",
   "execution_count": 49,
   "metadata": {},
   "outputs": [],
   "source": [
    "df_prepare.to_csv(RESULT_CSV)"
   ]
  }
 ],
 "metadata": {
  "kernelspec": {
   "display_name": "Python 3",
   "language": "python",
   "name": "python3"
  },
  "language_info": {
   "codemirror_mode": {
    "name": "ipython",
    "version": 3
   },
   "file_extension": ".py",
   "mimetype": "text/x-python",
   "name": "python",
   "nbconvert_exporter": "python",
   "pygments_lexer": "ipython3",
   "version": "3.8.12"
  }
 },
 "nbformat": 4,
 "nbformat_minor": 2
}
